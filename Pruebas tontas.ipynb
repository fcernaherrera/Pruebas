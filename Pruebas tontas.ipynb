{
 "cells": [
  {
   "cell_type": "markdown",
   "id": "88bf3299",
   "metadata": {},
   "source": [
    "# Pruebas tontas"
   ]
  },
  {
   "cell_type": "code",
   "execution_count": 1,
   "id": "fce4c948",
   "metadata": {},
   "outputs": [],
   "source": [
    "amigos = \"benjamin\", \"cesar\", \"ramon\", \"pan\""
   ]
  },
  {
   "cell_type": "code",
   "execution_count": 2,
   "id": "5588f5ac",
   "metadata": {},
   "outputs": [
    {
     "data": {
      "text/plain": [
       "'benjamin'"
      ]
     },
     "execution_count": 2,
     "metadata": {},
     "output_type": "execute_result"
    }
   ],
   "source": [
    "\"benjamin\""
   ]
  },
  {
   "cell_type": "code",
   "execution_count": 3,
   "id": "f81d9bd8",
   "metadata": {},
   "outputs": [
    {
     "data": {
      "text/plain": [
       "('benjamin', 'cesar', 'ramon', 'pan')"
      ]
     },
     "execution_count": 3,
     "metadata": {},
     "output_type": "execute_result"
    }
   ],
   "source": [
    "amigos"
   ]
  },
  {
   "cell_type": "code",
   "execution_count": 4,
   "id": "e8e0ee8f",
   "metadata": {},
   "outputs": [
    {
     "name": "stdout",
     "output_type": "stream",
     "text": [
      "benjamin\n",
      "cesar\n",
      "ramon\n",
      "pan\n"
     ]
    }
   ],
   "source": [
    "for i in amigos:\n",
    "    print(i)"
   ]
  },
  {
   "cell_type": "code",
   "execution_count": 5,
   "id": "b80164ac",
   "metadata": {},
   "outputs": [
    {
     "name": "stdout",
     "output_type": "stream",
     "text": [
      "b\n",
      "c\n",
      "r\n",
      "p\n"
     ]
    }
   ],
   "source": [
    "for i in amigos:\n",
    "    print(i[0])"
   ]
  },
  {
   "cell_type": "code",
   "execution_count": 6,
   "id": "c63f0a09",
   "metadata": {},
   "outputs": [],
   "source": [
    "import os"
   ]
  },
  {
   "cell_type": "code",
   "execution_count": 7,
   "id": "f4727e9a",
   "metadata": {
    "scrolled": false
   },
   "outputs": [
    {
     "name": "stdout",
     "output_type": "stream",
     "text": [
      "benjamin\n",
      "ramon\n",
      "pan\n"
     ]
    }
   ],
   "source": [
    "for i in amigos:\n",
    "    if i.endswith(\"n\"):\n",
    "        print(i)"
   ]
  },
  {
   "cell_type": "code",
   "execution_count": 8,
   "id": "cf06301a",
   "metadata": {},
   "outputs": [],
   "source": [
    "fonologo = []\n",
    "\n",
    "for i in amigos:\n",
    "    if i.endswith(\"n\"):\n",
    "        fonologo += i,"
   ]
  },
  {
   "cell_type": "code",
   "execution_count": 9,
   "id": "4b2ef74c",
   "metadata": {},
   "outputs": [
    {
     "data": {
      "text/plain": [
       "['benjamin', 'ramon', 'pan']"
      ]
     },
     "execution_count": 9,
     "metadata": {},
     "output_type": "execute_result"
    }
   ],
   "source": [
    "fonologo"
   ]
  },
  {
   "cell_type": "code",
   "execution_count": 10,
   "id": "8f3a5252",
   "metadata": {},
   "outputs": [
    {
     "data": {
      "text/plain": [
       "['benjamin', 'ramon', 'pan']"
      ]
     },
     "execution_count": 10,
     "metadata": {},
     "output_type": "execute_result"
    }
   ],
   "source": [
    "fonologo"
   ]
  },
  {
   "cell_type": "code",
   "execution_count": 11,
   "id": "fd6b8421",
   "metadata": {},
   "outputs": [
    {
     "data": {
      "text/plain": [
       "'benjamin'"
      ]
     },
     "execution_count": 11,
     "metadata": {},
     "output_type": "execute_result"
    }
   ],
   "source": [
    "fonologo[0]"
   ]
  },
  {
   "cell_type": "code",
   "execution_count": 12,
   "id": "a6de6a6c",
   "metadata": {},
   "outputs": [
    {
     "data": {
      "text/plain": [
       "'pan'"
      ]
     },
     "execution_count": 12,
     "metadata": {},
     "output_type": "execute_result"
    }
   ],
   "source": [
    "fonologo[-1]"
   ]
  },
  {
   "cell_type": "code",
   "execution_count": 13,
   "id": "2c7bbe77",
   "metadata": {},
   "outputs": [
    {
     "data": {
      "text/plain": [
       "'ramon'"
      ]
     },
     "execution_count": 13,
     "metadata": {},
     "output_type": "execute_result"
    }
   ],
   "source": [
    "fonologo[1]"
   ]
  },
  {
   "cell_type": "code",
   "execution_count": null,
   "id": "9ed13a61",
   "metadata": {},
   "outputs": [],
   "source": []
  }
 ],
 "metadata": {
  "kernelspec": {
   "display_name": "Python 3 (ipykernel)",
   "language": "python",
   "name": "python3"
  },
  "language_info": {
   "codemirror_mode": {
    "name": "ipython",
    "version": 3
   },
   "file_extension": ".py",
   "mimetype": "text/x-python",
   "name": "python",
   "nbconvert_exporter": "python",
   "pygments_lexer": "ipython3",
   "version": "3.9.7"
  }
 },
 "nbformat": 4,
 "nbformat_minor": 5
}
