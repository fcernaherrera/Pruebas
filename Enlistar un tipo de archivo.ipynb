{
 "cells": [
  {
   "cell_type": "markdown",
   "id": "36a51f5c",
   "metadata": {},
   "source": [
    "# Enlistar un tipo de archivo"
   ]
  },
  {
   "cell_type": "markdown",
   "id": "0a84e6ab",
   "metadata": {},
   "source": [
    "- Esto salió de algún lado, pero ya no recuerdo de dónde\n",
    "- Créditos a quien corresponda"
   ]
  },
  {
   "cell_type": "code",
   "execution_count": 6,
   "id": "9b2fd54c",
   "metadata": {},
   "outputs": [],
   "source": [
    "#Primero importamos la librería os\n",
    "import os\n",
    "\n",
    "#Creamos una lista vacía\n",
    "filelist = []\n",
    "\n",
    "#Usamos la función for y una función de la librería os\n",
    "#La idea es que lea los files de la dirección dada y los añada a la lista vacía\n",
    "for root, dirs, files in os.walk(\"C:\\\\Users\\\\fcern\\\\Downloads\\\\ABRIR-20221221T013908Z-001\\\\ABRIR\"):\n",
    "    filelist += files"
   ]
  },
  {
   "cell_type": "code",
   "execution_count": 7,
   "id": "aeaee408",
   "metadata": {
    "scrolled": true
   },
   "outputs": [
    {
     "data": {
      "text/plain": [
       "['ABRIR_1.eaf',\n",
       " 'ABRIR_1.mp4',\n",
       " 'ABRIR_1.pfsx',\n",
       " 'ABRIR_2.eaf',\n",
       " 'ABRIR_2.mp4',\n",
       " 'ABRIR_2.pfsx',\n",
       " 'ABRIR_3.eaf',\n",
       " 'ABRIR_3.mp4',\n",
       " 'ABRIR_3.pfsx',\n",
       " 'ABRIR_4.eaf',\n",
       " 'ABRIR_4.mp4',\n",
       " 'ABRIR_4.pfsx',\n",
       " 'ABRIR_5.eaf',\n",
       " 'ABRIR_5.mp4',\n",
       " 'ABRIR_5.pfsx',\n",
       " 'ABRIR_CORTINA_1.eaf',\n",
       " 'ABRIR_CORTINA_1.mp4',\n",
       " 'ABRIR_CORTINA_1.pfsx',\n",
       " 'ABRIR_CORTINA_2.eaf',\n",
       " 'ABRIR_CORTINA_2.mp4',\n",
       " 'ABRIR_CORTINA_2.pfsx',\n",
       " 'ABRIR_CORTINA_3.eaf',\n",
       " 'ABRIR_CORTINA_3.mp4',\n",
       " 'ABRIR_CORTINA_3.pfsx',\n",
       " 'ABRIR_CORTINA_ORACION_1.eaf',\n",
       " 'ABRIR_CORTINA_ORACION_1.mp4',\n",
       " 'ABRIR_CORTINA_ORACION_1.pfsx',\n",
       " 'ABRIR_CORTINA_ORACION_2.eaf',\n",
       " 'ABRIR_CORTINA_ORACION_2.mp4',\n",
       " 'ABRIR_CORTINA_ORACION_2.pfsx',\n",
       " 'ABRIR_ORACION_1.eaf',\n",
       " 'ABRIR_ORACION_1.mp4',\n",
       " 'ABRIR_ORACION_1.pfsx',\n",
       " 'ABRIR_ORACION_2.eaf',\n",
       " 'ABRIR_ORACION_2.mp4',\n",
       " 'ABRIR_ORACION_2.pfsx',\n",
       " 'ABRIR_ORACION_3.eaf',\n",
       " 'ABRIR_ORACION_3.mp4',\n",
       " 'ABRIR_ORACION_3.pfsx',\n",
       " 'ABRIR_ORACION_4.eaf',\n",
       " 'ABRIR_ORACION_4.mp4',\n",
       " 'ABRIR_ORACION_4.pfsx',\n",
       " 'ABRIR_ORACION_5.eaf',\n",
       " 'ABRIR_ORACION_5.mp4',\n",
       " 'ABRIR_ORACION_5.pfsx']"
      ]
     },
     "execution_count": 7,
     "metadata": {},
     "output_type": "execute_result"
    }
   ],
   "source": [
    "filelist"
   ]
  },
  {
   "cell_type": "code",
   "execution_count": 10,
   "id": "a6f4c577",
   "metadata": {},
   "outputs": [
    {
     "data": {
      "text/plain": [
       "['ABRIR_1.eaf',\n",
       " 'ABRIR_2.eaf',\n",
       " 'ABRIR_3.eaf',\n",
       " 'ABRIR_4.eaf',\n",
       " 'ABRIR_5.eaf',\n",
       " 'ABRIR_CORTINA_1.eaf',\n",
       " 'ABRIR_CORTINA_2.eaf',\n",
       " 'ABRIR_CORTINA_3.eaf',\n",
       " 'ABRIR_CORTINA_ORACION_1.eaf',\n",
       " 'ABRIR_CORTINA_ORACION_2.eaf',\n",
       " 'ABRIR_ORACION_1.eaf',\n",
       " 'ABRIR_ORACION_2.eaf',\n",
       " 'ABRIR_ORACION_3.eaf',\n",
       " 'ABRIR_ORACION_4.eaf',\n",
       " 'ABRIR_ORACION_5.eaf']"
      ]
     },
     "execution_count": 10,
     "metadata": {},
     "output_type": "execute_result"
    }
   ],
   "source": [
    "#Lo siguiente es para considerar solo archivos con cierta terminación\n",
    "\n",
    "#Creamos otra lista vacía\n",
    "archivos_elan = []\n",
    "\n",
    "#Usamos la función for para que se analicen los elementos según su terminación y se añadan a la lista vacía\n",
    "for i in filelist:\n",
    "    if i.endswith('.eaf'):\n",
    "        archivos_elan += i,\n",
    "archivos_elan"
   ]
  },
  {
   "cell_type": "code",
   "execution_count": null,
   "id": "e633cb13",
   "metadata": {},
   "outputs": [],
   "source": []
  }
 ],
 "metadata": {
  "kernelspec": {
   "display_name": "Python 3 (ipykernel)",
   "language": "python",
   "name": "python3"
  },
  "language_info": {
   "codemirror_mode": {
    "name": "ipython",
    "version": 3
   },
   "file_extension": ".py",
   "mimetype": "text/x-python",
   "name": "python",
   "nbconvert_exporter": "python",
   "pygments_lexer": "ipython3",
   "version": "3.9.13"
  }
 },
 "nbformat": 4,
 "nbformat_minor": 5
}
