{
 "cells": [
  {
   "cell_type": "markdown",
   "id": "297de1a1",
   "metadata": {},
   "source": [
    "# Filtrar un diccionario por keys o values según condiciones"
   ]
  },
  {
   "cell_type": "markdown",
   "id": "90403a2d",
   "metadata": {},
   "source": [
    "Tomado de: https://thispointer.com/python-filter-a-dictionary-by-conditions-on-keys-or-values/"
   ]
  },
  {
   "cell_type": "code",
   "execution_count": 1,
   "id": "a4475302",
   "metadata": {},
   "outputs": [],
   "source": [
    "#Definimos un diccionario\n",
    "diccionario1 = {\n",
    "   3 : 'john',\n",
    "   4: 'john',\n",
    "   9: 'mary',\n",
    "   10: 'mary',\n",
    "   11 : 'mary',\n",
    "   12 : 'john'\n",
    "}"
   ]
  },
  {
   "cell_type": "code",
   "execution_count": 2,
   "id": "b45d0a8c",
   "metadata": {},
   "outputs": [
    {
     "name": "stdout",
     "output_type": "stream",
     "text": [
      "{3: 'john', 4: 'john', 9: 'mary', 10: 'mary', 11: 'mary', 12: 'john'}\n"
     ]
    }
   ],
   "source": [
    "print(diccionario1)"
   ]
  },
  {
   "cell_type": "code",
   "execution_count": 3,
   "id": "6e2f5890",
   "metadata": {},
   "outputs": [
    {
     "name": "stdout",
     "output_type": "stream",
     "text": [
      "3 john\n",
      "4 john\n",
      "9 mary\n",
      "10 mary\n",
      "11 mary\n",
      "12 john\n"
     ]
    }
   ],
   "source": [
    "#Para crear un ciclo for que tome los keys y values usamos .items\n",
    "for (k,v) in diccionario1.items():\n",
    "    print(k,v)"
   ]
  },
  {
   "cell_type": "code",
   "execution_count": 4,
   "id": "e8350b11",
   "metadata": {
    "scrolled": true
   },
   "outputs": [
    {
     "name": "stdout",
     "output_type": "stream",
     "text": [
      "3 john\n",
      "4 john\n",
      "12 john\n"
     ]
    }
   ],
   "source": [
    "#Planteamos la condición dentro del ciclo for\n",
    "for (k,v) in diccionario1.items():\n",
    "    if v == 'john':\n",
    "        print(k,v)"
   ]
  },
  {
   "cell_type": "code",
   "execution_count": 5,
   "id": "63b09170",
   "metadata": {
    "scrolled": true
   },
   "outputs": [
    {
     "name": "stdout",
     "output_type": "stream",
     "text": [
      "{3: 'john', 4: 'john', 12: 'john'}\n"
     ]
    }
   ],
   "source": [
    "#Planteamos un diccionario donde vamos a guardar los resultados del ciclo for\n",
    "diccionario_john = {}\n",
    "\n",
    "for (k,v) in diccionario1.items():\n",
    "    if v == 'john':\n",
    "        diccionario_john[k] = v\n",
    "print(diccionario_john)"
   ]
  },
  {
   "cell_type": "markdown",
   "id": "13bfd648",
   "metadata": {},
   "source": [
    "Fin"
   ]
  }
 ],
 "metadata": {
  "kernelspec": {
   "display_name": "Python 3 (ipykernel)",
   "language": "python",
   "name": "python3"
  },
  "language_info": {
   "codemirror_mode": {
    "name": "ipython",
    "version": 3
   },
   "file_extension": ".py",
   "mimetype": "text/x-python",
   "name": "python",
   "nbconvert_exporter": "python",
   "pygments_lexer": "ipython3",
   "version": "3.9.13"
  }
 },
 "nbformat": 4,
 "nbformat_minor": 5
}
