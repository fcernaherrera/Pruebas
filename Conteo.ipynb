{
 "cells": [
  {
   "cell_type": "markdown",
   "id": "c13ef973",
   "metadata": {},
   "source": [
    "# Cómo contar archivos en carpetas"
   ]
  },
  {
   "cell_type": "markdown",
   "id": "4b31a389",
   "metadata": {},
   "source": [
    "Tomado de: https://www.delftstack.com/howto/python/count-the-number-of-files-in-a-directory-in-python/"
   ]
  },
  {
   "cell_type": "code",
   "execution_count": 63,
   "id": "019c0673",
   "metadata": {},
   "outputs": [],
   "source": [
    "import pathlib"
   ]
  },
  {
   "cell_type": "code",
   "execution_count": 83,
   "id": "a36e591a",
   "metadata": {},
   "outputs": [
    {
     "name": "stdout",
     "output_type": "stream",
     "text": [
      "Hay 6 elementos\n"
     ]
    }
   ],
   "source": [
    "initial_count = 0\n",
    "for path in pathlib.Path(\"/\").iterdir():\n",
    "    if path.is_file():\n",
    "        initial_count += 1\n",
    "\n",
    "print('Hay', initial_count, 'elementos')"
   ]
  },
  {
   "cell_type": "markdown",
   "id": "6ec67633",
   "metadata": {},
   "source": [
    "Preguntas:\n",
    "- ¿Cómo hacer que cuente solamente un tipo determinado de elementos? Por ejemplo, con extensión .eaf\n",
    "- ¿Cómo hacer que cuente subcarpetas?"
   ]
  },
  {
   "cell_type": "code",
   "execution_count": null,
   "id": "75e50770",
   "metadata": {},
   "outputs": [],
   "source": []
  }
 ],
 "metadata": {
  "kernelspec": {
   "display_name": "Python 3 (ipykernel)",
   "language": "python",
   "name": "python3"
  },
  "language_info": {
   "codemirror_mode": {
    "name": "ipython",
    "version": 3
   },
   "file_extension": ".py",
   "mimetype": "text/x-python",
   "name": "python",
   "nbconvert_exporter": "python",
   "pygments_lexer": "ipython3",
   "version": "3.9.13"
  }
 },
 "nbformat": 4,
 "nbformat_minor": 5
}
