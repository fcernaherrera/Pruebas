{
 "cells": [
  {
   "cell_type": "markdown",
   "id": "bc1c3a56",
   "metadata": {},
   "source": [
    "# Cómo contar archivos en carpetas"
   ]
  },
  {
   "cell_type": "markdown",
   "id": "bf0a225c",
   "metadata": {},
   "source": [
    "Tomado de: https://www.delftstack.com/howto/python/count-the-number-of-files-in-a-directory-in-python/"
   ]
  },
  {
   "cell_type": "code",
   "execution_count": 1,
   "id": "a40b41ba",
   "metadata": {},
   "outputs": [],
   "source": [
    "import pathlib"
   ]
  },
  {
   "cell_type": "code",
   "execution_count": 2,
   "id": "878af0e9",
   "metadata": {},
   "outputs": [
    {
     "name": "stdout",
     "output_type": "stream",
     "text": [
      "Hay 6 elementos\n"
     ]
    }
   ],
   "source": [
    "initial_count = 0\n",
    "for path in pathlib.Path(\"C:\\\\Users\\\\fcern\\\\Downloads\\\\\").iterdir():\n",
    "    if path.is_file():\n",
    "        initial_count += 1\n",
    "\n",
    "print('Hay', initial_count, 'elementos')\n",
    "\n",
    "##Por alguna razón en este código no se cuentan las carpetas vacías"
   ]
  },
  {
   "cell_type": "markdown",
   "id": "99f4440c",
   "metadata": {},
   "source": [
    "Preguntas:\n",
    "- ¿Cómo hacer que cuente solamente un tipo determinado de elementos? Por ejemplo, con extensión .eaf\n",
    "- ¿Cómo hacer que cuente subcarpetas?"
   ]
  },
  {
   "cell_type": "markdown",
   "id": "097e9140",
   "metadata": {},
   "source": [
    "Lo siguiente viene de: https://stackoverflow.com/questions/29769181/count-the-number-of-folders-in-a-directory-and-subdirectories"
   ]
  },
  {
   "cell_type": "code",
   "execution_count": 3,
   "id": "d5d0262c",
   "metadata": {
    "scrolled": false
   },
   "outputs": [
    {
     "name": "stdout",
     "output_type": "stream",
     "text": [
      "Hay 6 elementos\n"
     ]
    }
   ],
   "source": [
    "##Para contar el número de archivos en un directorio\n",
    "\n",
    "import os\n",
    "print('Hay', len(next(os.walk('C:\\\\Users\\\\fcern\\\\Downloads\\\\'))[2]), 'elementos')\n",
    "\n",
    "##Alguien comentó esto: Using [2] gives the \"file count\" and [1] gives the \"folder count\""
   ]
  },
  {
   "cell_type": "code",
   "execution_count": 4,
   "id": "c986d3bb",
   "metadata": {
    "scrolled": false
   },
   "outputs": [
    {
     "name": "stdout",
     "output_type": "stream",
     "text": [
      "Hay 2 carpeta(s)\n"
     ]
    }
   ],
   "source": [
    "print('Hay', len(next(os.walk('C:\\\\Users\\\\fcern\\\\Downloads\\\\'))[1]), 'carpeta(s)')"
   ]
  },
  {
   "cell_type": "code",
   "execution_count": 5,
   "id": "9c64edbd",
   "metadata": {
    "scrolled": true
   },
   "outputs": [
    {
     "name": "stdout",
     "output_type": "stream",
     "text": [
      "0 archivos, 1 carpetas\n"
     ]
    }
   ],
   "source": [
    "import os\n",
    "\n",
    "archivos = carpetas = 0\n",
    "\n",
    "for _, nombres_carpetas, nombres_archivos in os.walk('C:\\\\Users\\\\fcern\\\\Downloads\\\\carpeta\\\\'):\n",
    "  # ^ this idiom means \"we won't be using this value\"\n",
    "    archivos += len(nombres_archivos)\n",
    "    carpetas += len(nombres_carpetas)\n",
    "\n",
    "print(\"{:,} archivos, {:,} carpetas\".format(archivos, carpetas))"
   ]
  },
  {
   "cell_type": "markdown",
   "id": "cf59cd97",
   "metadata": {},
   "source": [
    "Lo siguiente viene de: https://pynative.com/python-count-number-of-files-in-a-directory/#h-count-all-files-in-the-directory-and-its-subdirectories"
   ]
  },
  {
   "cell_type": "code",
   "execution_count": 6,
   "id": "8f031923",
   "metadata": {},
   "outputs": [
    {
     "name": "stdout",
     "output_type": "stream",
     "text": [
      "File Count: 7\n"
     ]
    }
   ],
   "source": [
    "##Para contar todos los files en un directorio (pero no subdirectorios).\n",
    "## El *.* es una condición, la terminación del archivo. Si no se coloca nada, cuenta todos los archivos\n",
    "\n",
    "import fnmatch\n",
    "\n",
    "dir_path = r'C:\\\\Users\\\\fcern\\\\Downloads'\n",
    "count = len(fnmatch.filter(os.listdir(dir_path), '*.*'))\n",
    "print('File Count:', count)"
   ]
  },
  {
   "cell_type": "markdown",
   "id": "1b7dfe42",
   "metadata": {},
   "source": [
    "¿Cómo contar todos los archivos de un tipo (por ejemplo, Word) en un directorio y subdirectorios?"
   ]
  },
  {
   "cell_type": "markdown",
   "id": "4686022f",
   "metadata": {},
   "source": [
    "Lo siguiente viene de: https://stackoverflow.com/questions/35702996/printing-file-names"
   ]
  },
  {
   "cell_type": "code",
   "execution_count": 7,
   "id": "0754ff75",
   "metadata": {
    "scrolled": true
   },
   "outputs": [
    {
     "name": "stdout",
     "output_type": "stream",
     "text": [
      "BOTE_1.eaf\n"
     ]
    }
   ],
   "source": [
    "##Esto sirve para buscar los files con cierta extensión\n",
    "\n",
    "import glob, os\n",
    "parent_dir = r\"C:\\\\Users\\\\fcern\\\\Downloads\"\n",
    "for eaf_file in glob.glob(os.path.join(parent_dir, '*.eaf')):\n",
    "    print (os.path.basename(eaf_file))\n",
    "    \n",
    "##Para imprimir el nombre del archivo solamente:\n",
    "## print (os.path.basename(pdf_file))\n",
    "\n",
    "##Para imprimir la dirección del archivo:\n",
    "## print (eaf_file)"
   ]
  },
  {
   "cell_type": "code",
   "execution_count": 8,
   "id": "f672848e",
   "metadata": {},
   "outputs": [
    {
     "name": "stdout",
     "output_type": "stream",
     "text": [
      "BOTE_1.eaf\n",
      "BOTE_1.mp4\n",
      "BOTE_1.pfsx\n",
      "BOTE_2.eaf\n",
      "BOTE_2.mp4\n",
      "BOTE_2.pfsx\n",
      "BOTE_ORACION_1.eaf\n",
      "BOTE_ORACION_1.pfsx\n",
      "BOTE_ORACION_1mp4.mp4\n",
      "BOTE_ORACION_2.eaf\n",
      "BOTE_ORACION_2.mp4\n",
      "BOTE_ORACION_2.pfsx\n",
      "BUS_ORACION_1.eaf\n",
      "BUS_ORACION_1.mp4\n",
      "BUS_ORACION_1.pfsx\n",
      "CAER_1.eaf\n",
      "CAER_1.mp4\n",
      "CAER_1.pfsx\n",
      "CAER_2.eaf\n",
      "CAER_2.mp4\n",
      "CAER_2.pfsx\n",
      "CAER_3.eaf\n",
      "CAER_3.mp4\n",
      "CAER_3.pfsx\n",
      "CAER_4.eaf\n",
      "CAER_4.mp4\n",
      "CAER_4.pfsx\n",
      "CAER_ORACION_1.eaf\n",
      "CAER_ORACION_1.mp4\n",
      "CAER_ORACION_1.pfsx\n",
      "CAER_ORACION_2.eaf\n",
      "CAER_ORACION_2.mp4\n",
      "CAER_ORACION_2.pfsx\n",
      "CAER_ORACION_3.eaf\n",
      "CAER_ORACION_3.mp4\n",
      "CAER_ORACION_3.pfsx\n",
      "CAER_ORACION_4.eaf\n",
      "CAER_ORACION_4.mp4\n",
      "CAER_ORACION_4.pfsx\n",
      "CAER_ORACION_5.eaf\n",
      "CAER_ORACION_5.mp4\n",
      "CAER_ORACION_5.pfsx\n",
      "CAJA_1.eaf\n",
      "CAJA_1.mp4\n",
      "CAJA_1.pfsx\n",
      "CAJA_2.eaf\n",
      "CAJA_2.mp4\n",
      "CAJA_2.pfsx\n",
      "CAJA_3.eaf\n",
      "CAJA_3.mp4\n",
      "CAJA_3.pfsx\n",
      "CAJA_ORACION_1.eaf\n",
      "CAJA_ORACION_1.mp4\n",
      "CAJA_ORACION_1.pfsx\n",
      "CAJA_ORACION_2.eaf\n",
      "CAJA_ORACION_2.mp4\n",
      "CAJA_ORACION_2.pfsx\n",
      "CAJA_ORACION_3.eaf\n",
      "CAJA_ORACION_3.mp4\n",
      "CAJA_ORACION_3.pfsx\n",
      "CAJON_1.eaf\n",
      "CAJON_1.mp4\n",
      "CAJON_1.pfsx\n",
      "CAJON_2.eaf\n",
      "CAJON_2.mp4\n",
      "CAJON_2.pfsx\n",
      "CAJON_ORACION_1.eaf\n",
      "CAJON_ORACION_1.mp4\n",
      "CAJON_ORACION_1.pfsx\n",
      "CAJON_ORACION_2.eaf\n",
      "CAJON_ORACION_2.mp4\n",
      "CAJON_ORACION_2.pfsx\n",
      "CALOR_1.eaf\n",
      "CALOR_1.mp4\n",
      "CALOR_1.pfsx\n",
      "CALOR_ORACION_1.eaf\n",
      "CALOR_ORACION_1.mp4\n",
      "CALOR_ORACION_1.pfsx\n",
      "CAMA_1.eaf\n",
      "CAMA_1.mp4\n",
      "CAMA_2.eaf\n",
      "CAMA_2.mp4\n",
      "CAMA_2.pfsx\n",
      "CAMA_ORACION_1.eaf\n",
      "CAMA_ORACION_1.mp4\n",
      "CAMA_ORACION_2.eaf\n",
      "CAMA_ORACION_2.mp4\n",
      "CAMA_ORACION_2.pfsx\n",
      "CAMINAR_1.eaf\n",
      "CAMINAR_1.mp4\n",
      "CAMINAR_1.pfsx\n",
      "CAMINAR_2.eaf\n",
      "CAMINAR_2.mp4\n",
      "CAMINAR_2.pfsx\n",
      "CAMINAR_3.eaf\n",
      "CAMINAR_3.mp4\n",
      "CAMINAR_3.pfsx\n",
      "CAMINAR_4.eaf\n",
      "CAMINAR_4.mp4\n",
      "CAMINAR_4.pfsx\n",
      "CAMINAR_ORACION_1.eaf\n",
      "CAMINAR_ORACION_1.mp4\n",
      "CAMINAR_ORACION_1.pfsx\n",
      "CAMINAR_ORACION_4(2).eaf\n",
      "CAMINAR_ORACION_4(2).mp4\n",
      "CAMINAR_ORACION_4(2).pfsx\n",
      "CAMINAR_ORACION_4.eaf\n",
      "CAMINAR_ORACION_4.mp4\n",
      "CAMINAR_ORACION_4.pfsx\n",
      "CAMINAR_ORACION_5.eaf\n",
      "CAMINAR_ORACION_5.mp4\n",
      "CAMINAR_ORACION_5.pfsx\n",
      "CAMION_ORACION_1.eaf\n",
      "CAMION_ORACION_1.mp4\n",
      "CAMION_ORACION_1.pfsx\n",
      "CAMIONETA_ORACION_1.eaf\n",
      "CAMIONETA_ORACION_1.mp4\n",
      "CAMIONETA_ORACION_1.pfsx\n",
      "CARGAR_1.eaf\n",
      "CARGAR_1.mp4\n",
      "CARGAR_1.pfsx\n",
      "CARGAR_ORACION_1.eaf\n",
      "CARGAR_ORACION_1.mp4\n",
      "CARGAR_ORACION_1.pfsx\n",
      "CARRO_BOMBERO_ORACION_1.eaf\n",
      "CARRO_BOMBERO_ORACION_1.mp4\n",
      "CARRO_BOMBERO_ORACION_1.pfsx\n",
      "caquita.txt\n",
      "CASA_1.eaf\n",
      "CASA_1.mp4\n",
      "CASA_1.pfsx\n",
      "CASA_ORACION_1.eaf\n",
      "CASA_ORACION_1.mp4\n",
      "CASA_ORACION_1.pfsx\n",
      "CASA_ORACION_1.txt.pfsx\n",
      "CASACA_1.mp4\n",
      "CASACA_ORACION_1.eaf\n",
      "CASACA_ORACION_1.mp4\n",
      "CASACA_ORACION_1.pfsx\n"
     ]
    }
   ],
   "source": [
    "##Esto permite buscar todos los files en una carpeta. También busca en subcarpetas\n",
    "\n",
    "import os\n",
    "\n",
    "for root, dirs, files in os.walk(\"C:\\\\Users\\\\fcern\\\\Downloads\\\\1. VERSIÓN FINAL-20221216T024151Z-001\\\\1. VERSIÓN FINAL\\\\cesar\"):\n",
    "    for filename in files:\n",
    "        print(filename)\n",
    "        \n",
    "##Si el os.walk se deja con (\".\"), va a imprimir todo del directorio actual"
   ]
  },
  {
   "cell_type": "code",
   "execution_count": 9,
   "id": "a77f4385",
   "metadata": {},
   "outputs": [],
   "source": [
    "import os\n",
    "\n",
    "ext = ('.eaf')"
   ]
  },
  {
   "cell_type": "code",
   "execution_count": 10,
   "id": "cd6fc939",
   "metadata": {},
   "outputs": [
    {
     "ename": "AttributeError",
     "evalue": "'tuple' object has no attribute 'endswith'",
     "output_type": "error",
     "traceback": [
      "\u001b[1;31m---------------------------------------------------------------------------\u001b[0m",
      "\u001b[1;31mAttributeError\u001b[0m                            Traceback (most recent call last)",
      "\u001b[1;32m~\\AppData\\Local\\Temp\\ipykernel_7548\\3200178075.py\u001b[0m in \u001b[0;36m<module>\u001b[1;34m\u001b[0m\n\u001b[0;32m      1\u001b[0m \u001b[1;32mfor\u001b[0m \u001b[0mfiles\u001b[0m \u001b[1;32min\u001b[0m \u001b[0mos\u001b[0m\u001b[1;33m.\u001b[0m\u001b[0mwalk\u001b[0m\u001b[1;33m(\u001b[0m\u001b[1;34m\"C:\\\\Users\\\\fcern\\\\Downloads\\\\1. VERSIÓN FINAL-20221216T024151Z-001\\\\1. VERSIÓN FINAL\\\\cesar\\\\BOTE\"\u001b[0m\u001b[1;33m)\u001b[0m\u001b[1;33m:\u001b[0m\u001b[1;33m\u001b[0m\u001b[1;33m\u001b[0m\u001b[0m\n\u001b[1;32m----> 2\u001b[1;33m     \u001b[1;32mif\u001b[0m \u001b[0mfiles\u001b[0m\u001b[1;33m.\u001b[0m\u001b[0mendswith\u001b[0m\u001b[1;33m(\u001b[0m\u001b[0mext\u001b[0m\u001b[1;33m)\u001b[0m\u001b[1;33m:\u001b[0m\u001b[1;33m\u001b[0m\u001b[1;33m\u001b[0m\u001b[0m\n\u001b[0m\u001b[0;32m      3\u001b[0m         \u001b[0mprint\u001b[0m\u001b[1;33m(\u001b[0m\u001b[0mfiles\u001b[0m\u001b[1;33m)\u001b[0m\u001b[1;33m\u001b[0m\u001b[1;33m\u001b[0m\u001b[0m\n",
      "\u001b[1;31mAttributeError\u001b[0m: 'tuple' object has no attribute 'endswith'"
     ]
    }
   ],
   "source": [
    "for files in os.walk(\"C:\\\\Users\\\\fcern\\\\Downloads\\\\1. VERSIÓN FINAL-20221216T024151Z-001\\\\1. VERSIÓN FINAL\\\\cesar\\\\BOTE\"):\n",
    "    if files.endswith(ext):\n",
    "        print(files)"
   ]
  },
  {
   "cell_type": "markdown",
   "id": "dd4e317e",
   "metadata": {},
   "source": [
    "Este error lo resuelven en: https://stackoverflow.com/questions/39801970/os-walkdirectory-attributeerror-tuple-object-has-no-attribute-endswith"
   ]
  },
  {
   "cell_type": "markdown",
   "id": "ff2a67be",
   "metadata": {},
   "source": [
    "También en: https://bobbyhadz.com/blog/python-attributeerror-list-object-has-no-attribute-endswith"
   ]
  },
  {
   "cell_type": "code",
   "execution_count": 11,
   "id": "90621fb9",
   "metadata": {},
   "outputs": [],
   "source": [
    "import os"
   ]
  },
  {
   "cell_type": "code",
   "execution_count": 12,
   "id": "24222792",
   "metadata": {},
   "outputs": [],
   "source": [
    "archivos_elan = {}"
   ]
  },
  {
   "cell_type": "code",
   "execution_count": 13,
   "id": "43ef9ce8",
   "metadata": {
    "scrolled": true
   },
   "outputs": [
    {
     "name": "stdout",
     "output_type": "stream",
     "text": [
      "BOTE_1.eaf\n",
      "BOTE_1.mp4\n",
      "BOTE_1.pfsx\n",
      "BOTE_2.eaf\n",
      "BOTE_2.mp4\n",
      "BOTE_2.pfsx\n",
      "BOTE_ORACION_1.eaf\n",
      "BOTE_ORACION_1.pfsx\n",
      "BOTE_ORACION_1mp4.mp4\n",
      "BOTE_ORACION_2.eaf\n",
      "BOTE_ORACION_2.mp4\n",
      "BOTE_ORACION_2.pfsx\n",
      "BUS_ORACION_1.eaf\n",
      "BUS_ORACION_1.mp4\n",
      "BUS_ORACION_1.pfsx\n",
      "CAER_1.eaf\n",
      "CAER_1.mp4\n",
      "CAER_1.pfsx\n",
      "CAER_2.eaf\n",
      "CAER_2.mp4\n",
      "CAER_2.pfsx\n",
      "CAER_3.eaf\n",
      "CAER_3.mp4\n",
      "CAER_3.pfsx\n",
      "CAER_4.eaf\n",
      "CAER_4.mp4\n",
      "CAER_4.pfsx\n",
      "CAER_ORACION_1.eaf\n",
      "CAER_ORACION_1.mp4\n",
      "CAER_ORACION_1.pfsx\n",
      "CAER_ORACION_2.eaf\n",
      "CAER_ORACION_2.mp4\n",
      "CAER_ORACION_2.pfsx\n",
      "CAER_ORACION_3.eaf\n",
      "CAER_ORACION_3.mp4\n",
      "CAER_ORACION_3.pfsx\n",
      "CAER_ORACION_4.eaf\n",
      "CAER_ORACION_4.mp4\n",
      "CAER_ORACION_4.pfsx\n",
      "CAER_ORACION_5.eaf\n",
      "CAER_ORACION_5.mp4\n",
      "CAER_ORACION_5.pfsx\n",
      "CAJA_1.eaf\n",
      "CAJA_1.mp4\n",
      "CAJA_1.pfsx\n",
      "CAJA_2.eaf\n",
      "CAJA_2.mp4\n",
      "CAJA_2.pfsx\n",
      "CAJA_3.eaf\n",
      "CAJA_3.mp4\n",
      "CAJA_3.pfsx\n",
      "CAJA_ORACION_1.eaf\n",
      "CAJA_ORACION_1.mp4\n",
      "CAJA_ORACION_1.pfsx\n",
      "CAJA_ORACION_2.eaf\n",
      "CAJA_ORACION_2.mp4\n",
      "CAJA_ORACION_2.pfsx\n",
      "CAJA_ORACION_3.eaf\n",
      "CAJA_ORACION_3.mp4\n",
      "CAJA_ORACION_3.pfsx\n",
      "CAJON_1.eaf\n",
      "CAJON_1.mp4\n",
      "CAJON_1.pfsx\n",
      "CAJON_2.eaf\n",
      "CAJON_2.mp4\n",
      "CAJON_2.pfsx\n",
      "CAJON_ORACION_1.eaf\n",
      "CAJON_ORACION_1.mp4\n",
      "CAJON_ORACION_1.pfsx\n",
      "CAJON_ORACION_2.eaf\n",
      "CAJON_ORACION_2.mp4\n",
      "CAJON_ORACION_2.pfsx\n",
      "CALOR_1.eaf\n",
      "CALOR_1.mp4\n",
      "CALOR_1.pfsx\n",
      "CALOR_ORACION_1.eaf\n",
      "CALOR_ORACION_1.mp4\n",
      "CALOR_ORACION_1.pfsx\n",
      "CAMA_1.eaf\n",
      "CAMA_1.mp4\n",
      "CAMA_2.eaf\n",
      "CAMA_2.mp4\n",
      "CAMA_2.pfsx\n",
      "CAMA_ORACION_1.eaf\n",
      "CAMA_ORACION_1.mp4\n",
      "CAMA_ORACION_2.eaf\n",
      "CAMA_ORACION_2.mp4\n",
      "CAMA_ORACION_2.pfsx\n",
      "CAMINAR_1.eaf\n",
      "CAMINAR_1.mp4\n",
      "CAMINAR_1.pfsx\n",
      "CAMINAR_2.eaf\n",
      "CAMINAR_2.mp4\n",
      "CAMINAR_2.pfsx\n",
      "CAMINAR_3.eaf\n",
      "CAMINAR_3.mp4\n",
      "CAMINAR_3.pfsx\n",
      "CAMINAR_4.eaf\n",
      "CAMINAR_4.mp4\n",
      "CAMINAR_4.pfsx\n",
      "CAMINAR_ORACION_1.eaf\n",
      "CAMINAR_ORACION_1.mp4\n",
      "CAMINAR_ORACION_1.pfsx\n",
      "CAMINAR_ORACION_4(2).eaf\n",
      "CAMINAR_ORACION_4(2).mp4\n",
      "CAMINAR_ORACION_4(2).pfsx\n",
      "CAMINAR_ORACION_4.eaf\n",
      "CAMINAR_ORACION_4.mp4\n",
      "CAMINAR_ORACION_4.pfsx\n",
      "CAMINAR_ORACION_5.eaf\n",
      "CAMINAR_ORACION_5.mp4\n",
      "CAMINAR_ORACION_5.pfsx\n",
      "CAMION_ORACION_1.eaf\n",
      "CAMION_ORACION_1.mp4\n",
      "CAMION_ORACION_1.pfsx\n",
      "CAMIONETA_ORACION_1.eaf\n",
      "CAMIONETA_ORACION_1.mp4\n",
      "CAMIONETA_ORACION_1.pfsx\n",
      "CARGAR_1.eaf\n",
      "CARGAR_1.mp4\n",
      "CARGAR_1.pfsx\n",
      "CARGAR_ORACION_1.eaf\n",
      "CARGAR_ORACION_1.mp4\n",
      "CARGAR_ORACION_1.pfsx\n",
      "CARRO_BOMBERO_ORACION_1.eaf\n",
      "CARRO_BOMBERO_ORACION_1.mp4\n",
      "CARRO_BOMBERO_ORACION_1.pfsx\n",
      "caquita.txt\n",
      "CASA_1.eaf\n",
      "CASA_1.mp4\n",
      "CASA_1.pfsx\n",
      "CASA_ORACION_1.eaf\n",
      "CASA_ORACION_1.mp4\n",
      "CASA_ORACION_1.pfsx\n",
      "CASA_ORACION_1.txt.pfsx\n",
      "CASACA_1.mp4\n",
      "CASACA_ORACION_1.eaf\n",
      "CASACA_ORACION_1.mp4\n",
      "CASACA_ORACION_1.pfsx\n"
     ]
    }
   ],
   "source": [
    "for root, dirs, files in os.walk(\"C:\\\\Users\\\\fcern\\\\Downloads\\\\1. VERSIÓN FINAL-20221216T024151Z-001\\\\1. VERSIÓN FINAL\\\\cesar\"):\n",
    "    for filename in files:\n",
    "        print(filename)"
   ]
  },
  {
   "cell_type": "code",
   "execution_count": null,
   "id": "6a57e3cc",
   "metadata": {},
   "outputs": [],
   "source": [
    "filename"
   ]
  },
  {
   "cell_type": "markdown",
   "id": "7f4f385a",
   "metadata": {},
   "source": [
    "La solución está aquí: https://stackoverflow.com/questions/18046817/using-os-walk-to-add-to-list"
   ]
  },
  {
   "cell_type": "code",
   "execution_count": null,
   "id": "3d390030",
   "metadata": {},
   "outputs": [],
   "source": [
    "filelist = []\n",
    "for root, dirs, files in os.walk(\"C:\\\\Users\\\\fcern\\\\Downloads\\\\1. VERSIÓN FINAL-20221216T024151Z-001\\\\1. VERSIÓN FINAL\\\\cesar\"):\n",
    "    filelist += files"
   ]
  },
  {
   "cell_type": "code",
   "execution_count": null,
   "id": "33ad458d",
   "metadata": {
    "scrolled": true
   },
   "outputs": [],
   "source": [
    "filelist"
   ]
  },
  {
   "cell_type": "code",
   "execution_count": null,
   "id": "66a61199",
   "metadata": {},
   "outputs": [],
   "source": [
    "ext = ('.eaf')"
   ]
  },
  {
   "cell_type": "code",
   "execution_count": null,
   "id": "7fe40a88",
   "metadata": {
    "scrolled": true
   },
   "outputs": [],
   "source": [
    "for archivos_elan in filelist:\n",
    "    if archivos_elan.endswith(ext):\n",
    "        print(archivos_elan)"
   ]
  },
  {
   "cell_type": "code",
   "execution_count": null,
   "id": "437b81e6",
   "metadata": {},
   "outputs": [],
   "source": [
    "len(archivos_elan)"
   ]
  },
  {
   "cell_type": "code",
   "execution_count": null,
   "id": "67ee4281",
   "metadata": {},
   "outputs": [],
   "source": []
  },
  {
   "cell_type": "code",
   "execution_count": null,
   "id": "21ecec88",
   "metadata": {},
   "outputs": [],
   "source": []
  },
  {
   "cell_type": "code",
   "execution_count": null,
   "id": "9222501a",
   "metadata": {},
   "outputs": [],
   "source": [
    "##Esto permite buscar todos los files en una carpeta. También busca en subcarpetas\n",
    "\n",
    "import glob, os\n",
    "\n",
    "for root, dirs, files in os.walk(\"C:\\\\Users\\\\fcern\\\\Downloads\\\\1. VERSIÓN FINAL-20221216T024151Z-001\\\\1. VERSIÓN FINAL\\\\cesar\"):\n",
    "    for filename in files:\n",
    "        print(filename)\n",
    "        \n",
    "##Si el os.walk se deja con (\".\"), va a imprimir todo del directorio actual"
   ]
  },
  {
   "cell_type": "code",
   "execution_count": null,
   "id": "4f0a0cba",
   "metadata": {},
   "outputs": [],
   "source": []
  },
  {
   "cell_type": "code",
   "execution_count": null,
   "id": "6efeb7d7",
   "metadata": {},
   "outputs": [],
   "source": []
  },
  {
   "cell_type": "code",
   "execution_count": null,
   "id": "a5dca95e",
   "metadata": {},
   "outputs": [],
   "source": []
  },
  {
   "cell_type": "code",
   "execution_count": null,
   "id": "7bad4a38",
   "metadata": {},
   "outputs": [],
   "source": []
  },
  {
   "cell_type": "markdown",
   "id": "900a7e53",
   "metadata": {},
   "source": [
    "Lo siguiente viene de: https://docs.python.org/3/library/pathlib.html"
   ]
  },
  {
   "cell_type": "code",
   "execution_count": null,
   "id": "0130c42d",
   "metadata": {},
   "outputs": [],
   "source": [
    "from pathlib import Path"
   ]
  },
  {
   "cell_type": "code",
   "execution_count": null,
   "id": "8c5899b4",
   "metadata": {
    "scrolled": true
   },
   "outputs": [],
   "source": [
    "p = Path('.')\n",
    "[x for x in p.iterdir() if x.is_dir()]"
   ]
  },
  {
   "cell_type": "code",
   "execution_count": null,
   "id": "13cac9d9",
   "metadata": {},
   "outputs": [],
   "source": [
    "##Parece que colocar '.' llama al folder en el que se encuentra el archivo Python"
   ]
  },
  {
   "cell_type": "markdown",
   "id": "535d0de9",
   "metadata": {},
   "source": [
    "Lo siguiente viene de: https://www.geeksforgeeks.org/python-loop-through-files-of-certain-extensions/"
   ]
  },
  {
   "cell_type": "code",
   "execution_count": null,
   "id": "fcbc394d",
   "metadata": {},
   "outputs": [],
   "source": [
    "# importing the library\n",
    "import os"
   ]
  },
  {
   "cell_type": "code",
   "execution_count": null,
   "id": "c8c43ef1",
   "metadata": {},
   "outputs": [],
   "source": [
    "# giving directory name\n",
    "dirname = 'C:\\\\Users\\\\fcern\\\\Downloads\\\\1. VERSIÓN FINAL-20221216T024151Z-001\\\\1. VERSIÓN FINAL\\\\cesar\\\\BOTE'\n",
    " \n",
    "# giving file extension\n",
    "ext = ('.eaf')\n",
    " \n",
    "# iterating over all files\n",
    "for files in os.listdir(dirname):\n",
    "    if files.endswith(ext):\n",
    "        print(files)  # printing file name of desired extension\n",
    "    else:\n",
    "        continue"
   ]
  },
  {
   "cell_type": "markdown",
   "id": "af7f2f47",
   "metadata": {},
   "source": [
    "Lo siguiente viene de: https://pypi.org/project/pympi-ling/\n",
    "- Es la librería para ELAN/Praat en Python"
   ]
  },
  {
   "cell_type": "code",
   "execution_count": null,
   "id": "66722ec1",
   "metadata": {},
   "outputs": [],
   "source": [
    "##Para instalar la librería\n",
    "##pip install pympi-ling\n",
    "\n",
    "##Después de instalar\n",
    "import pympi"
   ]
  },
  {
   "cell_type": "code",
   "execution_count": null,
   "id": "aad17fc4",
   "metadata": {},
   "outputs": [],
   "source": [
    "help(pympi)"
   ]
  },
  {
   "cell_type": "code",
   "execution_count": null,
   "id": "f973d8f5",
   "metadata": {},
   "outputs": [],
   "source": [
    "import pympi"
   ]
  },
  {
   "cell_type": "code",
   "execution_count": null,
   "id": "3ef5f977",
   "metadata": {},
   "outputs": [],
   "source": [
    "ejemplo_elan = 'C:\\\\Users\\\\fcern\\\\Downloads\\\\1. VERSIÓN FINAL-20221216T024151Z-001\\\\1. VERSIÓN FINAL\\\\cesar\\\\CASA\\\\CASA_1.eaf'"
   ]
  },
  {
   "cell_type": "code",
   "execution_count": null,
   "id": "272a897b",
   "metadata": {},
   "outputs": [],
   "source": [
    "ejemplo_elan"
   ]
  },
  {
   "cell_type": "code",
   "execution_count": null,
   "id": "13ab641d",
   "metadata": {},
   "outputs": [],
   "source": [
    "for ejemplo_elan in glob.glob('ejemplo_elan'.format(ejemplo_elan) :\n",
    "    eafob = pympi.Elan.Eaf(ejemplo_elan)"
   ]
  },
  {
   "cell_type": "code",
   "execution_count": null,
   "id": "9f045259",
   "metadata": {},
   "outputs": [],
   "source": []
  }
 ],
 "metadata": {
  "kernelspec": {
   "display_name": "Python 3 (ipykernel)",
   "language": "python",
   "name": "python3"
  },
  "language_info": {
   "codemirror_mode": {
    "name": "ipython",
    "version": 3
   },
   "file_extension": ".py",
   "mimetype": "text/x-python",
   "name": "python",
   "nbconvert_exporter": "python",
   "pygments_lexer": "ipython3",
   "version": "3.9.13"
  }
 },
 "nbformat": 4,
 "nbformat_minor": 5
}
